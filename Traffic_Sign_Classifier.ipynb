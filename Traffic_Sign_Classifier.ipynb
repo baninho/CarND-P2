{
 "cells": [
  {
   "cell_type": "markdown",
   "metadata": {},
   "source": [
    "# Self-Driving Car Engineer Nanodegree\n",
    "\n",
    "## Deep Learning\n",
    "\n",
    "## Project: Build a Traffic Sign Recognition Classifier\n",
    "\n",
    "In this notebook, a template is provided for you to implement your functionality in stages, which is required to successfully complete this project. If additional code is required that cannot be included in the notebook, be sure that the Python code is successfully imported and included in your submission if necessary. \n",
    "\n",
    "> **Note**: Once you have completed all of the code implementations, you need to finalize your work by exporting the iPython Notebook as an HTML document. Before exporting the notebook to html, all of the code cells need to have been run so that reviewers can see the final implementation and output. You can then export the notebook by using the menu above and navigating to  \\n\",\n",
    "    \"**File -> Download as -> HTML (.html)**. Include the finished document along with this notebook as your submission. \n",
    "\n",
    "In addition to implementing code, there is a writeup to complete. The writeup should be completed in a separate file, which can be either a markdown file or a pdf document. There is a [write up template](https://github.com/udacity/CarND-Traffic-Sign-Classifier-Project/blob/master/writeup_template.md) that can be used to guide the writing process. Completing the code template and writeup template will cover all of the [rubric points](https://review.udacity.com/#!/rubrics/481/view) for this project.\n",
    "\n",
    "The [rubric](https://review.udacity.com/#!/rubrics/481/view) contains \"Stand Out Suggestions\" for enhancing the project beyond the minimum requirements. The stand out suggestions are optional. If you decide to pursue the \"stand out suggestions\", you can include the code in this Ipython notebook and also discuss the results in the writeup file.\n",
    "\n",
    "\n",
    ">**Note:** Code and Markdown cells can be executed using the **Shift + Enter** keyboard shortcut. In addition, Markdown cells can be edited by typically double-clicking the cell to enter edit mode."
   ]
  },
  {
   "cell_type": "markdown",
   "metadata": {},
   "source": [
    "---\n",
    "## Step 0: Load The Data"
   ]
  },
  {
   "cell_type": "code",
   "execution_count": 1,
   "metadata": {
    "collapsed": false
   },
   "outputs": [],
   "source": [
    "import numpy as np\n",
    "import tensorflow as tf\n",
    "from sklearn.utils import shuffle\n",
    "\n",
    "# Load pickled data\n",
    "import pickle\n",
    "\n",
    "# TODO: Fill this in based on where you saved the training and testing data\n",
    "\n",
    "training_file = './data/train.p'\n",
    "validation_file='./data/valid.p'\n",
    "testing_file = './data/test.p'\n",
    "\n",
    "with open(training_file, mode='rb') as f:\n",
    "    train = pickle.load(f)\n",
    "with open(validation_file, mode='rb') as f:\n",
    "    valid = pickle.load(f)\n",
    "with open(testing_file, mode='rb') as f:\n",
    "    test = pickle.load(f)\n",
    "    \n",
    "X_train, y_train = train['features'], train['labels']\n",
    "X_valid, y_valid = valid['features'], valid['labels']\n",
    "X_test, y_test = test['features'], test['labels']"
   ]
  },
  {
   "cell_type": "markdown",
   "metadata": {},
   "source": [
    "---\n",
    "\n",
    "## Step 1: Dataset Summary & Exploration\n",
    "\n",
    "The pickled data is a dictionary with 4 key/value pairs:\n",
    "\n",
    "- `'features'` is a 4D array containing raw pixel data of the traffic sign images, (num examples, width, height, channels).\n",
    "- `'labels'` is a 1D array containing the label/class id of the traffic sign. The file `signnames.csv` contains id -> name mappings for each id.\n",
    "- `'sizes'` is a list containing tuples, (width, height) representing the the original width and height the image.\n",
    "- `'coords'` is a list containing tuples, (x1, y1, x2, y2) representing coordinates of a bounding box around the sign in the image. **THESE COORDINATES ASSUME THE ORIGINAL IMAGE. THE PICKLED DATA CONTAINS RESIZED VERSIONS (32 by 32) OF THESE IMAGES**\n",
    "\n",
    "Complete the basic data summary below. Use python, numpy and/or pandas methods to calculate the data summary rather than hard coding the results. For example, the [pandas shape method](http://pandas.pydata.org/pandas-docs/stable/generated/pandas.DataFrame.shape.html) might be useful for calculating some of the summary results. "
   ]
  },
  {
   "cell_type": "markdown",
   "metadata": {},
   "source": [
    "### Provide a Basic Summary of the Data Set Using Python, Numpy and/or Pandas"
   ]
  },
  {
   "cell_type": "code",
   "execution_count": 2,
   "metadata": {
    "collapsed": false
   },
   "outputs": [
    {
     "name": "stdout",
     "output_type": "stream",
     "text": [
      "Number of training examples = 34799\n",
      "Number of testing examples = 12630\n",
      "Image data shape = (32, 32, 3)\n",
      "Number of classes = 43\n",
      "Number of classes (validation set)= 43\n"
     ]
    }
   ],
   "source": [
    "### Replace each question mark with the appropriate value. \n",
    "### Use python, pandas or numpy methods rather than hard coding the results\n",
    "\n",
    "# TODO: Number of training examples\n",
    "n_train = len(y_train)\n",
    "\n",
    "# TODO: Number of testing examples.\n",
    "n_test = len(y_test)\n",
    "\n",
    "# TODO: What's the shape of an traffic sign image?\n",
    "image_shape = X_train[0].shape\n",
    "\n",
    "# TODO: How many unique classes/labels there are in the dataset.\n",
    "n_classes = len(set(y_train))\n",
    "n_classes_val = len(set(y_valid))\n",
    "\n",
    "print(\"Number of training examples =\", n_train)\n",
    "print(\"Number of testing examples =\", n_test)\n",
    "print(\"Image data shape =\", image_shape)\n",
    "print(\"Number of classes =\", n_classes)\n",
    "print(\"Number of classes (validation set)=\", n_classes_val)"
   ]
  },
  {
   "cell_type": "markdown",
   "metadata": {},
   "source": [
    "### Include an exploratory visualization of the dataset"
   ]
  },
  {
   "cell_type": "markdown",
   "metadata": {},
   "source": [
    "Visualize the German Traffic Signs Dataset using the pickled file(s). This is open ended, suggestions include: plotting traffic sign images, plotting the count of each sign, etc.\n",
    "\n",
    "The [Matplotlib](http://matplotlib.org/) [examples](http://matplotlib.org/examples/index.html) and [gallery](http://matplotlib.org/gallery.html) pages are a great resource for doing visualizations in Python.\n",
    "\n",
    "**NOTE:** It's recommended you start with something simple first. If you wish to do more, come back to it after you've completed the rest of the sections."
   ]
  },
  {
   "cell_type": "code",
   "execution_count": 3,
   "metadata": {
    "collapsed": false
   },
   "outputs": [],
   "source": [
    "import csv\n",
    "\n",
    "label_reader = csv.reader(open('signnames.csv', newline=''), delimiter=',', quotechar='\"')\n",
    "label_conv = [row for row in label_reader]\n",
    "\n",
    "def get_sign_name(label_id):\n",
    "    return label_conv[label_id + 1][1] if label_id < len(label_conv) - 1 else 'OUT_OF_RANGE'"
   ]
  },
  {
   "cell_type": "code",
   "execution_count": 4,
   "metadata": {
    "collapsed": false
   },
   "outputs": [
    {
     "name": "stdout",
     "output_type": "stream",
     "text": [
      "Speed limit (70km/h)\n"
     ]
    },
    {
     "data": {
      "image/png": "[encoded data removed]",
      "text/plain": [
       "<matplotlib.figure.Figure at 0x7f7f1333da58>"
      ]
     },
     "metadata": {},
     "output_type": "display_data"
    }
   ],
   "source": [
    "### Data exploration visualization code goes here.\n",
    "### Feel free to use as many code cells as needed.\n",
    "import matplotlib.pyplot as plt\n",
    "import random\n",
    "\n",
    "# Visualizations will be shown in the notebook.\n",
    "%matplotlib inline\n",
    "\n",
    "i = random.randrange(X_train.shape[0])\n",
    "\n",
    "X_train, y_train = shuffle(X_train, y_train)\n",
    "\n",
    "plt.imshow(X_train[i])\n",
    "print(get_sign_name(y_train[i]))\n",
    "\n"
   ]
  },
  {
   "cell_type": "markdown",
   "metadata": {},
   "source": [
    "----\n",
    "\n",
    "## Step 2: Design and Test a Model Architecture\n",
    "\n",
    "Design and implement a deep learning model that learns to recognize traffic signs. Train and test your model on the [German Traffic Sign Dataset](http://benchmark.ini.rub.de/?section=gtsrb&subsection=dataset).\n",
    "\n",
    "There are various aspects to consider when thinking about this problem:\n",
    "\n",
    "- Neural network architecture\n",
    "- Play around preprocessing techniques (normalization, rgb to grayscale, etc)\n",
    "- Number of examples per label (some have more than others).\n",
    "- Generate fake data.\n",
    "\n",
    "Here is an example of a [published baseline model on this problem](http://yann.lecun.com/exdb/publis/pdf/sermanet-ijcnn-11.pdf). It's not required to be familiar with the approach used in the paper but, it's good practice to try to read papers like these.\n",
    "\n",
    "**NOTE:** The LeNet-5 implementation shown in the [classroom](https://classroom.udacity.com/nanodegrees/nd013/parts/fbf77062-5703-404e-b60c-95b78b2f3f9e/modules/6df7ae49-c61c-4bb2-a23e-6527e69209ec/lessons/601ae704-1035-4287-8b11-e2c2716217ad/concepts/d4aca031-508f-4e0b-b493-e7b706120f81) at the end of the CNN lesson is a solid starting point. You'll have to change the number of classes and possibly the preprocessing, but aside from that it's plug and play!"
   ]
  },
  {
   "cell_type": "markdown",
   "metadata": {},
   "source": [
    "### Pre-process the Data Set (normalization, grayscale, etc.)"
   ]
  },
  {
   "cell_type": "markdown",
   "metadata": {},
   "source": [
    "Use the code cell (or multiple code cells, if necessary) to implement the first step of your project."
   ]
  },
  {
   "cell_type": "code",
   "execution_count": 5,
   "metadata": {
    "collapsed": false
   },
   "outputs": [
    {
     "name": "stdout",
     "output_type": "stream",
     "text": [
      "(173995, 32, 32, 1)\n",
      "[[ 42.]\n",
      " [ 31.]\n",
      " [ 27.]\n",
      " [ 28.]\n",
      " [ 29.]\n",
      " [ 28.]\n",
      " [ 27.]\n",
      " [ 28.]\n",
      " [ 28.]\n",
      " [ 41.]\n",
      " [ 56.]\n",
      " [ 56.]\n",
      " [ 64.]\n",
      " [ 80.]\n",
      " [ 82.]\n",
      " [ 98.]\n",
      " [ 98.]\n",
      " [ 92.]\n",
      " [ 91.]\n",
      " [ 90.]\n",
      " [ 82.]\n",
      " [ 66.]\n",
      " [ 65.]\n",
      " [ 60.]\n",
      " [ 43.]\n",
      " [ 42.]\n",
      " [ 42.]\n",
      " [ 36.]\n",
      " [ 39.]\n",
      " [ 46.]\n",
      " [ 43.]\n",
      " [ 42.]]\n",
      "[23  7  1 10 27 35  8  5 12 13 34 11 42 28 18 12 11 10  2  2]\n"
     ]
    }
   ],
   "source": [
    "### Preprocess the data here. Preprocessing steps could include normalization, converting to grayscale, etc.\n",
    "### Feel free to use as many code cells as needed.\n",
    "import cv2\n",
    "\n",
    "def rgb2gray(rgb):\n",
    "    return [cv2.cvtColor(x, cv2.COLOR_BGR2GRAY) for x in rgb]\n",
    "\n",
    "def normalise(x):\n",
    "    return [np.divide(x_, np.max(x_)) for x_ in x]\n",
    "\n",
    "def translate(x):\n",
    "    return [translate_(x_) for x_ in x]\n",
    "\n",
    "def translate_(x):\n",
    "    np.reshape(x, [32,32])\n",
    "    M = np.float32([[1,0,random.uniform(-2, 2)],[0,1,random.uniform(-2, 2)]])\n",
    "    return cv2.warpAffine(x,M,(32,32))\n",
    "\n",
    "def rotate(x):\n",
    "    return [rotate_(x_) for x_ in x]\n",
    "    \n",
    "def rotate_(x):\n",
    "    np.reshape(x, [32,32])\n",
    "    M = cv2.getRotationMatrix2D((16,16),random.uniform(-15, 15),1)\n",
    "    return cv2.warpAffine(x,M,(32,32))\n",
    "\n",
    "def blur(x):\n",
    "    return [cv2.blur(x_, (3,3)) for x_ in x]\n",
    "\n",
    "def noise(x):\n",
    "    return [noise_(x_) for x_ in x]\n",
    "    \n",
    "def noise_(x):\n",
    "    M = np.random.randint(-10,10)\n",
    "    z = np.zeros([32,32,1])\n",
    "    ff = np.dot(np.ones([32,32,1]),255)\n",
    "    x = np.maximum(z, x + M)\n",
    "    return np.reshape(np.minimum(x, ff), [32,32])\n",
    "\n",
    "X_train = np.reshape(rgb2gray(X_train), [len(X_train), 32, 32, 1])\n",
    "X_valid = np.reshape((rgb2gray(X_valid)), [len(X_valid), 32, 32, 1])\n",
    "X_test = np.reshape((rgb2gray(X_test)), [len(X_test), 32, 32, 1])\n",
    "\n",
    "X_train_ = np.concatenate((X_train, np.reshape(rotate(X_train), [len(X_train), 32, 32, 1])), axis=0)\n",
    "X_train_ = np.concatenate((X_train_, np.reshape(translate(X_train), [len(X_train), 32, 32, 1])), axis=0)\n",
    "X_train_ = np.concatenate((X_train_, np.reshape(blur(X_train), [len(X_train), 32, 32, 1])), axis=0)\n",
    "X_train_ = np.concatenate((X_train_, np.reshape(noise(X_train), [len(X_train), 32, 32, 1])), axis=0)\n",
    "\n",
    "X_train = X_train_\n",
    "\n",
    "y_train = np.concatenate((y_train,y_train,y_train,y_train,y_train), axis=0)\n",
    "\n",
    "print(np.shape((X_train)))\n",
    "\n",
    "print(X_train[0][16])\n",
    "print(y_train[0:20])"
   ]
  },
  {
   "cell_type": "code",
   "execution_count": 95,
   "metadata": {
    "collapsed": false
   },
   "outputs": [
    {
     "name": "stdout",
     "output_type": "stream",
     "text": [
      "Speed limit (50km/h)\n",
      "float64\n"
     ]
    },
    {
     "data": {
      "image/png": "[encoded data removed]",
      "text/plain": [
       "<matplotlib.figure.Figure at 0x7f7e180a90f0>"
      ]
     },
     "metadata": {},
     "output_type": "display_data"
    }
   ],
   "source": [
    "i = random.randrange(X_train.shape[0])\n",
    "plt.imshow(X_train[i,:,:,0], cmap='gray')\n",
    "print(get_sign_name(y_train[i]))\n",
    "print(X_train[i,:,:,0].dtype)"
   ]
  },
  {
   "cell_type": "markdown",
   "metadata": {},
   "source": [
    "### Model Architecture"
   ]
  },
  {
   "cell_type": "code",
   "execution_count": 7,
   "metadata": {
    "collapsed": false
   },
   "outputs": [],
   "source": [
    "### Define your architecture here.\n",
    "### Feel free to use as many code cells as needed.\n",
    "\n",
    "from tensorflow.contrib.layers import flatten\n",
    "\n",
    "def LeNet(x, w_keep):    \n",
    "    # Arguments used for tf.truncated_normal, randomly defines variables for the weights and biases for each layer\n",
    "    mu = 0\n",
    "    sigma = 0.1\n",
    "    \n",
    "    W = {'L1': tf.Variable(tf.truncated_normal([5,5,1,24], mean = mu, stddev = sigma), name=\"w_L1\"),\n",
    "        'L1_': tf.Variable(tf.truncated_normal([1,1,24,68], mean = mu, stddev = sigma), name=\"w_L1_\"),\n",
    "        'L2': tf.Variable(tf.truncated_normal([5,5,68,68], mean = mu, stddev = sigma), name=\"w_L2\"),\n",
    "        'L3': tf.Variable(tf.truncated_normal([5032,75], mean = mu, stddev = sigma), name=\"w_L3\"),\n",
    "        'L4': tf.Variable(tf.truncated_normal([75,75], mean = mu, stddev = sigma), name=\"w_L4\"),\n",
    "        'L5': tf.Variable(tf.truncated_normal([75,43], mean = mu, stddev = sigma), name=\"w_L5\")}\n",
    "    b = {'L1': tf.Variable(tf.zeros(24), name=\"b_L1\"),\n",
    "        'L1_': tf.Variable(tf.zeros(68), name=\"b_L1_\"),\n",
    "        'L2': tf.Variable(tf.zeros(68), name=\"b_L2\"),\n",
    "        'L3': tf.Variable(tf.zeros(75), name=\"b_L3\"),\n",
    "        'L4': tf.Variable(tf.zeros(75), name=\"b_L4\"),\n",
    "        'L5': tf.Variable(tf.zeros(43), name=\"b_L5\")}\n",
    "    # TODO: Layer 1: Convolutional. Input = 32x32x3. Output = 28x28x108.\n",
    "    L1 = tf.nn.bias_add(tf.nn.conv2d(x, W['L1'], strides = [1,1,1,1], padding = 'VALID'), b['L1'])\n",
    "\n",
    "    L1 = tf.nn.conv2d(L1, W['L1_'], strides = [1,1,1,1], padding = 'VALID') + b['L1_']\n",
    "    \n",
    "    # TODO: Activation.\n",
    "    L1 = tf.sigmoid(L1)\n",
    "    \n",
    "    # TODO: Pooling. Input = 28x28x108. Output = 14x14x108.\n",
    "    L1 = tf.nn.max_pool(L1, ksize = [1,2,2,1], strides = [1,2,2,1], padding = 'VALID')\n",
    "\n",
    "    # TODO: Layer 2: Convolutional. Output = 10x10x108.\n",
    "    L2 = tf.nn.bias_add(tf.nn.conv2d(L1, W['L2'], strides = [1,1,1,1], padding = 'VALID'), b['L2'])\n",
    "    \n",
    "    # TODO: Activation.\n",
    "    L2 = tf.sigmoid(L2)\n",
    "\n",
    "    # TODO: Pooling. Input = 10x10x108. Output = 5x5x108.\n",
    "    L2 = tf.nn.max_pool(L2, ksize = [1,2,2,1], strides = [1,2,2,1], padding = 'VALID')\n",
    "\n",
    "    # TODO: Flatten. Input = 5x5x108. Output = 2700.\n",
    "    L2 = flatten(L2)\n",
    "    \n",
    "    L1_ = tf.nn.max_pool(L1, ksize = [1,2,2,1], strides = [1,2,2,1], padding = 'VALID')\n",
    "    L1_ = flatten(L1_)\n",
    "    L2 = tf.concat(values = [L1_, L2], concat_dim = 1)\n",
    "    \n",
    "    # TODO: Layer 3: Fully Connected. Input = 2700. Output = 50.\n",
    "    L3 = tf.add(tf.matmul(L2, W['L3']), b['L3'])\n",
    "    L3 = tf.nn.dropout(L3, w_keep)\n",
    "    \n",
    "    # TODO: Activation.\n",
    "    L3 = tf.sigmoid(L3)\n",
    "\n",
    "    # TODO: Layer 4: Fully Connected. Input = 50. Output = 50.\n",
    "    L4 = tf.add(tf.matmul(L3, W['L4']), b['L4'])\n",
    "    L4 = tf.nn.dropout(L4, w_keep)\n",
    "    \n",
    "    # TODO: Activation.\n",
    "    L4 = tf.sigmoid(L4)\n",
    "\n",
    "    # TODO: Layer 5: Fully Connected. Input = 50. Output = 43.\n",
    "    L5 = tf.add(tf.matmul(L4, W['L5']), b['L5'])\n",
    "    \n",
    "    return L5"
   ]
  },
  {
   "cell_type": "markdown",
   "metadata": {},
   "source": [
    "### Train, Validate and Test the Model"
   ]
  },
  {
   "cell_type": "markdown",
   "metadata": {},
   "source": [
    "A validation set can be used to assess how well the model is performing. A low accuracy on the training and validation\n",
    "sets imply underfitting. A high accuracy on the training set but low accuracy on the validation set implies overfitting."
   ]
  },
  {
   "cell_type": "code",
   "execution_count": 8,
   "metadata": {
    "collapsed": false
   },
   "outputs": [],
   "source": [
    "import sys\n",
    "\n",
    "rate = 0.001\n",
    "EPOCHS = 10\n",
    "BATCH_SIZE = 256 \n"
   ]
  },
  {
   "cell_type": "code",
   "execution_count": 9,
   "metadata": {
    "collapsed": false
   },
   "outputs": [],
   "source": [
    "x = tf.placeholder(tf.float32, (None, 32, 32, 1))\n",
    "y = tf.placeholder(tf.int32, (None))\n",
    "one_hot_y = tf.one_hot(y, 43)\n",
    "w_keep = tf.placeholder(tf.float32)\n",
    "\n",
    "logits = LeNet(x, w_keep)\n",
    "cross_entropy = tf.nn.softmax_cross_entropy_with_logits(logits = logits, labels = one_hot_y)\n",
    "loss_operation = tf.reduce_mean(cross_entropy)\n",
    "optimizer = tf.train.AdamOptimizer(learning_rate = rate)\n",
    "training_operation = optimizer.minimize(loss_operation)\n",
    "\n",
    "correct_prediction = tf.equal(tf.argmax(logits, 1), tf.argmax(one_hot_y, 1))\n",
    "accuracy_operation = tf.reduce_mean(tf.cast(correct_prediction, tf.float32))\n",
    "\n",
    "\n",
    "saver = tf.train.Saver()"
   ]
  },
  {
   "cell_type": "code",
   "execution_count": 10,
   "metadata": {
    "collapsed": true
   },
   "outputs": [],
   "source": [
    "def evaluate(X_data, y_data):\n",
    "    num_examples = len(X_data)\n",
    "    total_accuracy = 0\n",
    "    sess = tf.get_default_session()\n",
    "    for offset in range(0, num_examples, BATCH_SIZE):\n",
    "        batch_x, batch_y = X_data[offset:offset+BATCH_SIZE], y_data[offset:offset+BATCH_SIZE]\n",
    "        accuracy = sess.run(accuracy_operation, feed_dict={x: batch_x, y: batch_y, w_keep: 1.})\n",
    "        total_accuracy += (accuracy * len(batch_x))\n",
    "    return total_accuracy / num_examples"
   ]
  },
  {
   "cell_type": "code",
   "execution_count": 11,
   "metadata": {
    "collapsed": false
   },
   "outputs": [
    {
     "name": "stdout",
     "output_type": "stream",
     "text": [
      "Validation Accuracy = 0.039\n",
      "\n",
      "Training...\n",
      "\n",
      "progress 99.9%EPOCH 1 ...\n",
      "Validation Accuracy = 0.484\n",
      "Training Accuracy = 0.511\n",
      "\n",
      "progress 99.9%EPOCH 2 ...\n",
      "Validation Accuracy = 0.877\n",
      "Training Accuracy = 0.897\n",
      "\n",
      "progress 99.9%EPOCH 3 ...\n",
      "Validation Accuracy = 0.937\n",
      "Training Accuracy = 0.964\n",
      "\n",
      "progress 99.9%EPOCH 4 ...\n",
      "Validation Accuracy = 0.947\n",
      "Training Accuracy = 0.982\n",
      "\n",
      "progress 99.9%EPOCH 5 ...\n",
      "Validation Accuracy = 0.957\n",
      "Training Accuracy = 0.990\n",
      "\n",
      "progress 99.9%EPOCH 6 ...\n",
      "Validation Accuracy = 0.948\n",
      "Training Accuracy = 0.987\n",
      "\n",
      "progress 99.9%EPOCH 7 ...\n",
      "Validation Accuracy = 0.959\n",
      "Training Accuracy = 0.989\n",
      "\n",
      "progress 99.9%EPOCH 8 ...\n",
      "Validation Accuracy = 0.966\n",
      "Training Accuracy = 0.993\n",
      "\n",
      "progress 99.9%EPOCH 9 ...\n",
      "Validation Accuracy = 0.967\n",
      "Training Accuracy = 0.997\n",
      "\n",
      "progress 99.9%EPOCH 10 ...\n",
      "Validation Accuracy = 0.967\n",
      "Training Accuracy = 0.996\n",
      "\n",
      "Model saved\n"
     ]
    }
   ],
   "source": [
    "### Train your model here.\n",
    "### Calculate and report the accuracy on the training and validation set.\n",
    "### Once a final model architecture is selected, \n",
    "### the accuracy on the test set should be calculated and reported as well.\n",
    "### Feel free to use as many code cells as needed.\n",
    "\n",
    "with tf.Session() as sess:\n",
    "    sess.run(tf.global_variables_initializer())\n",
    "    num_examples = len(X_train)\n",
    "    \n",
    "    validation_accuracy = evaluate(X_valid, y_valid)\n",
    "    print(\"Validation Accuracy = {:.3f}\".format(validation_accuracy))\n",
    "    print()\n",
    "    print(\"Training...\")\n",
    "    print()\n",
    "    for i in range(EPOCHS):\n",
    "        X_train, y_train = shuffle(X_train, y_train)\n",
    "        for offset in range(0, num_examples, BATCH_SIZE):\n",
    "            sys.stdout.write(\"\\rprogress %.1f%%\" % (offset/num_examples*100))\n",
    "            sys.stdout.flush()\n",
    "            end = offset + BATCH_SIZE\n",
    "            batch_x, batch_y = X_train[offset:end], y_train[offset:end]\n",
    "            sess.run(training_operation, feed_dict={x: batch_x, y: batch_y, w_keep: 1.})\n",
    "            \n",
    "        validation_accuracy = evaluate(X_valid, y_valid)\n",
    "        train_accuracy = evaluate(X_train, y_train)\n",
    "        print()\n",
    "        print(\"EPOCH {} ...\".format(i+1))\n",
    "        print(\"Validation Accuracy = {:.3f}\".format(validation_accuracy))\n",
    "        print(\"Training Accuracy = {:.3f}\".format(train_accuracy))\n",
    "        print()\n",
    "        \n",
    "    saver.save(sess, './lenet')\n",
    "    print(\"Model saved\")"
   ]
  },
  {
   "cell_type": "code",
   "execution_count": 12,
   "metadata": {
    "collapsed": false
   },
   "outputs": [
    {
     "name": "stdout",
     "output_type": "stream",
     "text": [
      "Validation Accuracy = 0.967\n",
      "\n",
      "Training...\n",
      "\n",
      "progress 99.9%EPOCH 1 ...\n",
      "Validation Accuracy = 0.960\n",
      "We have to go back!\n",
      "\n",
      "progress 99.9%EPOCH 2 ...\n",
      "Validation Accuracy = 0.948\n",
      "We have to go back!\n",
      "\n",
      "progress 99.9%EPOCH 3 ...\n",
      "Validation Accuracy = 0.949\n",
      "We have to go back!\n",
      "\n",
      "progress 99.9%EPOCH 4 ...\n",
      "Validation Accuracy = 0.944\n",
      "We have to go back!\n",
      "\n",
      "progress 99.9%EPOCH 5 ...\n",
      "Validation Accuracy = 0.956\n",
      "We have to go back!\n",
      "\n",
      "progress 99.9%EPOCH 6 ...\n",
      "Validation Accuracy = 0.947\n",
      "We have to go back!\n",
      "\n",
      "progress 99.9%EPOCH 7 ...\n",
      "Validation Accuracy = 0.955\n",
      "We have to go back!\n",
      "\n",
      "progress 99.9%EPOCH 8 ...\n",
      "Validation Accuracy = 0.954\n",
      "We have to go back!\n",
      "\n",
      "progress 99.9%EPOCH 9 ...\n",
      "Validation Accuracy = 0.957\n",
      "We have to go back!\n",
      "\n",
      "progress 99.9%EPOCH 10 ...\n",
      "Validation Accuracy = 0.954\n",
      "We have to go back!\n",
      "\n",
      "Model saved\n"
     ]
    }
   ],
   "source": [
    "with tf.Session() as sess:\n",
    "    saver.restore(sess, './lenet')\n",
    "    num_examples = len(X_train)\n",
    "    \n",
    "    validation_accuracy = evaluate(X_valid, y_valid)\n",
    "    print(\"Validation Accuracy = {:.3f}\".format(validation_accuracy))\n",
    "    print()\n",
    "    print(\"Training...\")\n",
    "    print()\n",
    "    for i in range(EPOCHS):\n",
    "        X_train, y_train = shuffle(X_train, y_train)\n",
    "        for offset in range(0, num_examples, BATCH_SIZE):\n",
    "            sys.stdout.write(\"\\rprogress %.1f%%\" % (offset/num_examples*100))\n",
    "            sys.stdout.flush()\n",
    "            if offset // BATCH_SIZE == 64:\n",
    "                if evaluate(X_valid, y_valid) > 0.99:\n",
    "                    break\n",
    "            end = offset + BATCH_SIZE\n",
    "            batch_x, batch_y = X_train[offset:end], y_train[offset:end]\n",
    "            sess.run(training_operation, feed_dict={x: batch_x, y: batch_y, w_keep: 0.75})\n",
    "            \n",
    "        print()\n",
    "        print(\"EPOCH {} ...\".format(i+1))\n",
    "        acc_ = validation_accuracy\n",
    "        validation_accuracy = evaluate(X_valid, y_valid)\n",
    "        print(\"Validation Accuracy = {:.3f}\".format(validation_accuracy))\n",
    "        if validation_accuracy > 0.98:\n",
    "            break\n",
    "        if validation_accuracy > acc_:\n",
    "            saver.save(sess, './lenet')\n",
    "            train_accuracy = evaluate(X_train, y_train)\n",
    "            print(\"Training Accuracy = {:.3f}\".format(train_accuracy))\n",
    "            print('Saving new solution')\n",
    "        else:\n",
    "            saver.restore(sess, './lenet')\n",
    "            validation_accuracy = acc_\n",
    "            print('We have to go back!')\n",
    "        print()\n",
    "        \n",
    "    saver.save(sess, './lenet')\n",
    "    print(\"Model saved\")"
   ]
  },
  {
   "cell_type": "code",
   "execution_count": 13,
   "metadata": {
    "collapsed": false
   },
   "outputs": [
    {
     "name": "stdout",
     "output_type": "stream",
     "text": [
      "Test accuracy: 0.948\n"
     ]
    }
   ],
   "source": [
    "with tf.Session() as sess:\n",
    "    saver.restore(sess, './lenet')\n",
    "    print(\"Test accuracy: {:.3f}\".format(evaluate(X_test, y_test)))"
   ]
  },
  {
   "cell_type": "markdown",
   "metadata": {},
   "source": [
    "---\n",
    "\n",
    "## Step 3: Test a Model on New Images\n",
    "\n",
    "To give yourself more insight into how your model is working, download at least five pictures of German traffic signs from the web and use your model to predict the traffic sign type.\n",
    "\n",
    "You may find `signnames.csv` useful as it contains mappings from the class id (integer) to the actual sign name."
   ]
  },
  {
   "cell_type": "markdown",
   "metadata": {},
   "source": [
    "### Load and Output the Images"
   ]
  },
  {
   "cell_type": "code",
   "execution_count": 54,
   "metadata": {
    "collapsed": false
   },
   "outputs": [
    {
     "data": {
      "text/plain": [
       "<matplotlib.image.AxesImage at 0x7f7e9028ab00>"
      ]
     },
     "execution_count": 54,
     "metadata": {},
     "output_type": "execute_result"
    },
    {
     "data": {
      "image/png": "[encoded data removed]",
      "text/plain": [
       "<matplotlib.figure.Figure at 0x7f7e905c0860>"
      ]
     },
     "metadata": {},
     "output_type": "display_data"
    }
   ],
   "source": [
    "### Load the images and plot them here.\n",
    "### Feel free to use as many code cells as needed.\n",
    "\n",
    "ueber = plt.imread('1_ueberholverbot.png')\n",
    "wvz_100 = plt.imread('2_100_wvz.png')\n",
    "rakete = plt.imread('3_rakete.png')\n",
    "v50 = plt.imread('4_50.png')\n",
    "stops = plt.imread('5_stop.png')\n",
    "\n",
    "labels = ['no passing', 'Speed 100', 'RoW next x', 'Speed 50', 'Stop']\n",
    "\n",
    "plt.imshow(ueber)"
   ]
  },
  {
   "cell_type": "code",
   "execution_count": 55,
   "metadata": {
    "collapsed": false
   },
   "outputs": [
    {
     "data": {
      "text/plain": [
       "<matplotlib.image.AxesImage at 0x7f7e901bbcf8>"
      ]
     },
     "execution_count": 55,
     "metadata": {},
     "output_type": "execute_result"
    },
    {
     "data": {
      "image/png": "[encoded data removed]",
      "text/plain": [
       "<matplotlib.figure.Figure at 0x7f7e9034f278>"
      ]
     },
     "metadata": {},
     "output_type": "display_data"
    }
   ],
   "source": [
    "plt.imshow(wvz_100)"
   ]
  },
  {
   "cell_type": "code",
   "execution_count": 56,
   "metadata": {
    "collapsed": false
   },
   "outputs": [
    {
     "data": {
      "text/plain": [
       "<matplotlib.image.AxesImage at 0x7f7e901ee470>"
      ]
     },
     "execution_count": 56,
     "metadata": {},
     "output_type": "execute_result"
    },
    {
     "data": {
      "image/png": "[encoded data removed]",
      "text/plain": [
       "<matplotlib.figure.Figure at 0x7f7e90219c18>"
      ]
     },
     "metadata": {},
     "output_type": "display_data"
    }
   ],
   "source": [
    "plt.imshow(rakete)"
   ]
  },
  {
   "cell_type": "code",
   "execution_count": 57,
   "metadata": {
    "collapsed": false
   },
   "outputs": [
    {
     "data": {
      "text/plain": [
       "<matplotlib.image.AxesImage at 0x7f7e9025d6a0>"
      ]
     },
     "execution_count": 57,
     "metadata": {},
     "output_type": "execute_result"
    },
    {
     "data": {
      "image/png": "[encoded data removed]",
      "text/plain": [
       "<matplotlib.figure.Figure at 0x7f7e90156a58>"
      ]
     },
     "metadata": {},
     "output_type": "display_data"
    }
   ],
   "source": [
    "plt.imshow(v50)"
   ]
  },
  {
   "cell_type": "code",
   "execution_count": 58,
   "metadata": {
    "collapsed": false
   },
   "outputs": [
    {
     "data": {
      "text/plain": [
       "<matplotlib.image.AxesImage at 0x7f7e9012c358>"
      ]
     },
     "execution_count": 58,
     "metadata": {},
     "output_type": "execute_result"
    },
    {
     "data": {
      "image/png": "[encoded data removed]",
      "text/plain": [
       "<matplotlib.figure.Figure at 0x7f7e90279c88>"
      ]
     },
     "metadata": {},
     "output_type": "display_data"
    }
   ],
   "source": [
    "plt.imshow(stops)"
   ]
  },
  {
   "cell_type": "code",
   "execution_count": 103,
   "metadata": {
    "collapsed": false
   },
   "outputs": [
    {
     "name": "stdout",
     "output_type": "stream",
     "text": [
      "(32, 32, 4)\n",
      "(5, 32, 32, 1)\n",
      "float64\n",
      "[  51.27200156   55.02500318   26.12900153   85.46600193   13.04500021\n",
      "   13.45500011   82.2630018    68.41100469   91.80400863   64.29299846\n",
      "   60.56500331   96.15299687   77.30500504   77.95000523   41.13099933\n",
      "   31.74900256   29.92300104  113.1129992   198.94499749  136.51500106\n",
      "  140.27600884  142.27600873  144.80300993  137.75999665  209.57500309\n",
      "   93.08200166   20.53200066   25.06000109   44.83500257   88.94500405\n",
      "   20.16500115   20.94800234]\n"
     ]
    }
   ],
   "source": [
    "print(ueber.shape)\n",
    "dl_img = [ueber[:,:,:3], wvz_100[:,:,:3], rakete[:,:,:3], v50[:,:,:3], stops[:,:,:3]]\n",
    "x_ = np.reshape(dl_img, (5,32,32,3))\n",
    "x_ = np.array(rgb2gray(x_)).astype(np.float64)\n",
    "x_ = np.reshape(x_, (5,32,32,1))\n",
    "print(x_.shape)\n",
    "print(x_.dtype)\n",
    "x_ = 255*(x_/np.max(x_))\n",
    "print(x_[0,16,:,0])"
   ]
  },
  {
   "cell_type": "code",
   "execution_count": 81,
   "metadata": {
    "collapsed": false
   },
   "outputs": [
    {
     "data": {
      "image/png": "[encoded data removed]",
      "text/plain": [
       "<matplotlib.figure.Figure at 0x7f7e183ff278>"
      ]
     },
     "metadata": {},
     "output_type": "display_data"
    }
   ],
   "source": [
    "fig, axs = plt.subplots(1,5)\n",
    "for im, ax_ in zip(x_, axs):\n",
    "    ax_.imshow(im[:,:,0], cmap='gray')"
   ]
  },
  {
   "cell_type": "markdown",
   "metadata": {},
   "source": [
    "### Predict the Sign Type for Each Image"
   ]
  },
  {
   "cell_type": "code",
   "execution_count": 102,
   "metadata": {
    "collapsed": false
   },
   "outputs": [
    {
     "name": "stdout",
     "output_type": "stream",
     "text": [
      "Test accuracy: 0.948\n",
      "Predictions:\n",
      "\n",
      "no passing: Stop\n",
      "Speed 100: Speed limit (120km/h)\n",
      "RoW next x: Slippery road\n",
      "Speed 50: Speed limit (60km/h)\n",
      "Stop: Stop\n",
      "[14  8 23  3 14]\n",
      "\n",
      "\n",
      "\n",
      "Highest probabilities (no passing):\n",
      "Stop: 96.2%\n",
      "No entry: 2.5%\n",
      "Keep right: 0.8%\n",
      "Turn left ahead: 0.3%\n",
      "Roundabout mandatory: 0.1%\n",
      "\n",
      "Highest probabilities (Speed 100):\n",
      "Speed limit (120km/h): 48.5%\n",
      "Speed limit (50km/h): 40.8%\n",
      "Speed limit (80km/h): 3.8%\n",
      "Speed limit (60km/h): 3.1%\n",
      "No vehicles: 1.0%\n",
      "\n",
      "Highest probabilities (RoW next x):\n",
      "Slippery road: 44.0%\n",
      "Wild animals crossing: 23.2%\n",
      "Road work: 22.4%\n",
      "Dangerous curve to the left: 2.2%\n",
      "Bumpy road: 1.7%\n",
      "\n",
      "Highest probabilities (Speed 50):\n",
      "Speed limit (60km/h): 91.1%\n",
      "No passing: 2.5%\n",
      "No vehicles: 2.1%\n",
      "Vehicles over 3.5 metric tons prohibited: 1.9%\n",
      "Turn left ahead: 0.9%\n",
      "\n",
      "Highest probabilities (Stop):\n",
      "Stop: 61.7%\n",
      "Roundabout mandatory: 15.3%\n",
      "No vehicles: 9.4%\n",
      "Turn right ahead: 6.9%\n",
      "No entry: 3.2%\n"
     ]
    }
   ],
   "source": [
    "### Run the predictions here and use the model to output the prediction for each image.\n",
    "### Make sure to pre-process the images with the same pre-processing pipeline used earlier.\n",
    "### Feel free to use as many code cells as needed.\n",
    "\n",
    "s_max = tf.nn.softmax(logits)\n",
    "predict = tf.argmax(logits, 1)\n",
    "top5 = tf.nn.top_k(s_max, 5)\n",
    "\n",
    "with tf.Session() as sess:\n",
    "    saver.restore(sess, './lenet')\n",
    "    res = sess.run(predict, feed_dict={x: x_, w_keep: 1.})\n",
    "    s_max_out = sess.run(s_max, feed_dict={x: x_,  w_keep: 1.})\n",
    "    top5_out = sess.run(top5, feed_dict={x: x_, w_keep: 1.})\n",
    "\n",
    "    print(\"Test accuracy: {:.3f}\".format(evaluate(X_test, y_test)))\n",
    "    \n",
    "\n",
    "print(\"Predictions:\")\n",
    "print()\n",
    "for i, l_ in zip(res,labels):\n",
    "    print(\"{}: {}\".format(l_, get_sign_name(i)))\n",
    "\n",
    "print(res)    \n",
    "print(\"\\n\")\n",
    "\n",
    "for s_out, w_out, l_ in zip(top5_out.indices, top5_out.values, labels):\n",
    "    print()\n",
    "    print(\"Highest probabilities ({}):\".format(l_))\n",
    "    for s_, w_ in zip(s_out, w_out):\n",
    "        print(\"{}: {:.1f}%\".format(get_sign_name(s_), 100*w_)) \n",
    "\n"
   ]
  },
  {
   "cell_type": "markdown",
   "metadata": {},
   "source": [
    "### Analyze Performance"
   ]
  },
  {
   "cell_type": "code",
   "execution_count": null,
   "metadata": {
    "collapsed": true
   },
   "outputs": [],
   "source": [
    "### Calculate the accuracy for these 5 new images. \n",
    "### For example, if the model predicted 1 out of 5 signs correctly, it's 20% accurate on these new images.\n",
    "\n",
    "# 20%"
   ]
  },
  {
   "cell_type": "markdown",
   "metadata": {},
   "source": [
    "### Output Top 5 Softmax Probabilities For Each Image Found on the Web"
   ]
  },
  {
   "cell_type": "markdown",
   "metadata": {},
   "source": [
    "For each of the new images, print out the model's softmax probabilities to show the **certainty** of the model's predictions (limit the output to the top 5 probabilities for each image). [`tf.nn.top_k`](https://www.tensorflow.org/versions/r0.12/api_docs/python/nn.html#top_k) could prove helpful here. \n",
    "\n",
    "The example below demonstrates how tf.nn.top_k can be used to find the top k predictions for each image.\n",
    "\n",
    "`tf.nn.top_k` will return the values and indices (class ids) of the top k predictions. So if k=3, for each sign, it'll return the 3 largest probabilities (out of a possible 43) and the correspoding class ids.\n",
    "\n",
    "Take this numpy array as an example. The values in the array represent predictions. The array contains softmax probabilities for five candidate images with six possible classes. `tk.nn.top_k` is used to choose the three classes with the highest probability:\n",
    "\n",
    "```\n",
    "# (5, 6) array\n",
    "a = np.array([[ 0.24879643,  0.07032244,  0.12641572,  0.34763842,  0.07893497,\n",
    "         0.12789202],\n",
    "       [ 0.28086119,  0.27569815,  0.08594638,  0.0178669 ,  0.18063401,\n",
    "         0.15899337],\n",
    "       [ 0.26076848,  0.23664738,  0.08020603,  0.07001922,  0.1134371 ,\n",
    "         0.23892179],\n",
    "       [ 0.11943333,  0.29198961,  0.02605103,  0.26234032,  0.1351348 ,\n",
    "         0.16505091],\n",
    "       [ 0.09561176,  0.34396535,  0.0643941 ,  0.16240774,  0.24206137,\n",
    "         0.09155967]])\n",
    "```\n",
    "\n",
    "Running it through `sess.run(tf.nn.top_k(tf.constant(a), k=3))` produces:\n",
    "\n",
    "```\n",
    "TopKV2(values=array([[ 0.34763842,  0.24879643,  0.12789202],\n",
    "       [ 0.28086119,  0.27569815,  0.18063401],\n",
    "       [ 0.26076848,  0.23892179,  0.23664738],\n",
    "       [ 0.29198961,  0.26234032,  0.16505091],\n",
    "       [ 0.34396535,  0.24206137,  0.16240774]]), indices=array([[3, 0, 5],\n",
    "       [0, 1, 4],\n",
    "       [0, 5, 1],\n",
    "       [1, 3, 5],\n",
    "       [1, 4, 3]], dtype=int32))\n",
    "```\n",
    "\n",
    "Looking just at the first row we get `[ 0.34763842,  0.24879643,  0.12789202]`, you can confirm these are the 3 largest probabilities in `a`. You'll also notice `[3, 0, 5]` are the corresponding indices."
   ]
  },
  {
   "cell_type": "code",
   "execution_count": null,
   "metadata": {
    "collapsed": true
   },
   "outputs": [],
   "source": [
    "### Print out the top five softmax probabilities for the predictions on the German traffic sign images found on the web. \n",
    "### Feel free to use as many code cells as needed."
   ]
  },
  {
   "cell_type": "markdown",
   "metadata": {},
   "source": [
    "---\n",
    "\n",
    "## Step 4: Visualize the Neural Network's State with Test Images\n",
    "\n",
    " This Section is not required to complete but acts as an additional excersise for understaning the output of a neural network's weights. While neural networks can be a great learning device they are often referred to as a black box. We can understand what the weights of a neural network look like better by plotting their feature maps. After successfully training your neural network you can see what it's feature maps look like by plotting the output of the network's weight layers in response to a test stimuli image. From these plotted feature maps, it's possible to see what characteristics of an image the network finds interesting. For a sign, maybe the inner network feature maps react with high activation to the sign's boundary outline or to the contrast in the sign's painted symbol.\n",
    "\n",
    " Provided for you below is the function code that allows you to get the visualization output of any tensorflow weight layer you want. The inputs to the function should be a stimuli image, one used during training or a new one you provided, and then the tensorflow variable name that represents the layer's state during the training process, for instance if you wanted to see what the [LeNet lab's](https://classroom.udacity.com/nanodegrees/nd013/parts/fbf77062-5703-404e-b60c-95b78b2f3f9e/modules/6df7ae49-c61c-4bb2-a23e-6527e69209ec/lessons/601ae704-1035-4287-8b11-e2c2716217ad/concepts/d4aca031-508f-4e0b-b493-e7b706120f81) feature maps looked like for it's second convolutional layer you could enter conv2 as the tf_activation variable.\n",
    "\n",
    "For an example of what feature map outputs look like, check out NVIDIA's results in their paper [End-to-End Deep Learning for Self-Driving Cars](https://devblogs.nvidia.com/parallelforall/deep-learning-self-driving-cars/) in the section Visualization of internal CNN State. NVIDIA was able to show that their network's inner weights had high activations to road boundary lines by comparing feature maps from an image with a clear path to one without. Try experimenting with a similar test to show that your trained network's weights are looking for interesting features, whether it's looking at differences in feature maps from images with or without a sign, or even what feature maps look like in a trained network vs a completely untrained one on the same sign image.\n",
    "\n",
    "<figure>\n",
    " <img src=\"visualize_cnn.png\" width=\"380\" alt=\"Combined Image\" />\n",
    " <figcaption>\n",
    " <p></p> \n",
    " <p style=\"text-align: center;\"> Your output should look something like this (above)</p> \n",
    " </figcaption>\n",
    "</figure>\n",
    " <p></p> \n"
   ]
  },
  {
   "cell_type": "code",
   "execution_count": null,
   "metadata": {
    "collapsed": true
   },
   "outputs": [],
   "source": [
    "### Visualize your network's feature maps here.\n",
    "### Feel free to use as many code cells as needed.\n",
    "\n",
    "# image_input: the test image being fed into the network to produce the feature maps\n",
    "# tf_activation: should be a tf variable name used during your training procedure that represents the calculated state of a specific weight layer\n",
    "# activation_min/max: can be used to view the activation contrast in more detail, by default matplot sets min and max to the actual min and max values of the output\n",
    "# plt_num: used to plot out multiple different weight feature map sets on the same block, just extend the plt number for each new feature map entry\n",
    "\n",
    "def outputFeatureMap(image_input, tf_activation, activation_min=-1, activation_max=-1 ,plt_num=1):\n",
    "    # Here make sure to preprocess your image_input in a way your network expects\n",
    "    # with size, normalization, ect if needed\n",
    "    # image_input =\n",
    "    # Note: x should be the same name as your network's tensorflow data placeholder variable\n",
    "    # If you get an error tf_activation is not defined it maybe having trouble accessing the variable from inside a function\n",
    "    activation = tf_activation.eval(session=sess,feed_dict={x : image_input})\n",
    "    featuremaps = activation.shape[3]\n",
    "    plt.figure(plt_num, figsize=(15,15))\n",
    "    for featuremap in range(featuremaps):\n",
    "        plt.subplot(6,8, featuremap+1) # sets the number of feature maps to show on each row and column\n",
    "        plt.title('FeatureMap ' + str(featuremap)) # displays the feature map number\n",
    "        if activation_min != -1 & activation_max != -1:\n",
    "            plt.imshow(activation[0,:,:, featuremap], interpolation=\"nearest\", vmin =activation_min, vmax=activation_max, cmap=\"gray\")\n",
    "        elif activation_max != -1:\n",
    "            plt.imshow(activation[0,:,:, featuremap], interpolation=\"nearest\", vmax=activation_max, cmap=\"gray\")\n",
    "        elif activation_min !=-1:\n",
    "            plt.imshow(activation[0,:,:, featuremap], interpolation=\"nearest\", vmin=activation_min, cmap=\"gray\")\n",
    "        else:\n",
    "            plt.imshow(activation[0,:,:, featuremap], interpolation=\"nearest\", cmap=\"gray\")"
   ]
  },
  {
   "cell_type": "markdown",
   "metadata": {},
   "source": [
    "### Question 9\n",
    "\n",
    "Discuss how you used the visual output of your trained network's feature maps to show that it had learned to look for interesting characteristics in traffic sign images\n"
   ]
  },
  {
   "cell_type": "markdown",
   "metadata": {},
   "source": [
    "**Answer:**"
   ]
  },
  {
   "cell_type": "markdown",
   "metadata": {},
   "source": [
    "> **Note**: Once you have completed all of the code implementations and successfully answered each question above, you may finalize your work by exporting the iPython Notebook as an HTML document. You can do this by using the menu above and navigating to  \\n\",\n",
    "    \"**File -> Download as -> HTML (.html)**. Include the finished document along with this notebook as your submission."
   ]
  },
  {
   "cell_type": "markdown",
   "metadata": {},
   "source": [
    "### Project Writeup\n",
    "\n",
    "Once you have completed the code implementation, document your results in a project writeup using this [template](https://github.com/udacity/CarND-Traffic-Sign-Classifier-Project/blob/master/writeup_template.md) as a guide. The writeup can be in a markdown or pdf file. "
   ]
  }
 ],
 "metadata": {
  "anaconda-cloud": {},
  "kernelspec": {
   "display_name": "Python 3",
   "language": "python",
   "name": "python3"
  },
  "language_info": {
   "codemirror_mode": {
    "name": "ipython",
    "version": 3
   },
   "file_extension": ".py",
   "mimetype": "text/x-python",
   "name": "python",
   "nbconvert_exporter": "python",
   "pygments_lexer": "ipython3",
   "version": "3.5.2"
  },
  "widgets": {
   "state": {},
   "version": "1.1.2"
  }
 },
 "nbformat": 4,
 "nbformat_minor": 1
}
